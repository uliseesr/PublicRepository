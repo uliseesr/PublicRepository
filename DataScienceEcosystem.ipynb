{
 "cells": [
  {
   "cell_type": "markdown",
   "id": "586cd23f-fa76-497d-9a47-e89e805c0604",
   "metadata": {
    "tags": []
   },
   "source": [
    "DATA SCIENCE TOOLS AND ECOSYSTEM"
   ]
  },
  {
   "cell_type": "markdown",
   "id": "0e347f24-b33d-413c-ad79-bf03e5d4d484",
   "metadata": {},
   "source": [
    "In this notebook, Data Science tools and ecosystem are summarized."
   ]
  },
  {
   "cell_type": "markdown",
   "id": "0cfb4469-22c3-4c66-b5dc-a8a1d59dcd31",
   "metadata": {},
   "source": [
    "__Objectives:__\n",
    "\n",
    "- List popular languages for Data Science\n",
    "- List commonly used libraries by Data Science\n",
    "- List commonly used Data Science Tools"
   ]
  },
  {
   "cell_type": "markdown",
   "id": "0ecb0f9a-80ef-4c6b-99d5-252e46ef60ea",
   "metadata": {
    "tags": []
   },
   "source": [
    "Some of the popular languages that Data Scientists use are:\n",
    "1. Python\n",
    "2. R\n",
    "3. SQL\n",
    "4. Julia"
   ]
  },
  {
   "cell_type": "markdown",
   "id": "af6e9489-9823-4d72-bcb2-14492cf98e17",
   "metadata": {},
   "source": [
    "Some of the commonly used libraries used by Data Scientists include:\n",
    "1. Pandas\n",
    "2. Numpy\n",
    "3. Scikitlearn\n",
    "4. PyTorch"
   ]
  },
  {
   "cell_type": "markdown",
   "id": "3fc5a114-0b23-42a1-a629-c9e1775a8fea",
   "metadata": {},
   "source": [
    "|Data Science Tools |\n",
    "|---|\n",
    "|Github|\n",
    "|Jupyter|\n",
    "|R Studio|"
   ]
  },
  {
   "cell_type": "markdown",
   "id": "479c9f22-ba4c-4e20-a073-f58610b9925a",
   "metadata": {
    "tags": []
   },
   "source": [
    "### Below are a few examples of evaluating arithmetic expressions in Python"
   ]
  },
  {
   "cell_type": "code",
   "execution_count": 7,
   "id": "5fb32033-4125-4415-8808-648a59b19cd0",
   "metadata": {
    "tags": []
   },
   "outputs": [
    {
     "data": {
      "text/plain": [
       "17"
      ]
     },
     "execution_count": 7,
     "metadata": {},
     "output_type": "execute_result"
    }
   ],
   "source": [
    "#This a simple arithmetic expression to mutiply then add integers\n",
    "(3*4)+5"
   ]
  },
  {
   "cell_type": "code",
   "execution_count": 13,
   "id": "64647c62-fb37-4c87-a37f-5f6dd6cd488f",
   "metadata": {
    "tags": []
   },
   "outputs": [
    {
     "data": {
      "text/plain": [
       "3.3333333333333335"
      ]
     },
     "execution_count": 13,
     "metadata": {},
     "output_type": "execute_result"
    }
   ],
   "source": [
    "#  This will convert 200 minutes to hours by diving by 60\n",
    "200/60"
   ]
  },
  {
   "cell_type": "code",
   "execution_count": null,
   "id": "668651d5-ee6c-4feb-b40d-1672273ebb8b",
   "metadata": {},
   "outputs": [],
   "source": [
    "##A"
   ]
  }
 ],
 "metadata": {
  "kernelspec": {
   "display_name": "Python",
   "language": "python",
   "name": "conda-env-python-py"
  },
  "language_info": {
   "codemirror_mode": {
    "name": "ipython",
    "version": 3
   },
   "file_extension": ".py",
   "mimetype": "text/x-python",
   "name": "python",
   "nbconvert_exporter": "python",
   "pygments_lexer": "ipython3",
   "version": "3.7.12"
  }
 },
 "nbformat": 4,
 "nbformat_minor": 5
}
